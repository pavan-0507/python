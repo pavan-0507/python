{
  "nbformat": 4,
  "nbformat_minor": 0,
  "metadata": {
    "colab": {
      "provenance": [],
      "authorship_tag": "ABX9TyNU+5etpA3Vl7vi9uzN3HRT",
      "include_colab_link": true
    },
    "kernelspec": {
      "name": "python3",
      "display_name": "Python 3"
    },
    "language_info": {
      "name": "python"
    }
  },
  "cells": [
    {
      "cell_type": "markdown",
      "metadata": {
        "id": "view-in-github",
        "colab_type": "text"
      },
      "source": [
        "<a href=\"https://colab.research.google.com/github/pavan-0507/python/blob/main/asssignment6.ipynb\" target=\"_parent\"><img src=\"https://colab.research.google.com/assets/colab-badge.svg\" alt=\"Open In Colab\"/></a>"
      ]
    },
    {
      "cell_type": "code",
      "source": [
        "#pattern 1, for loop\n",
        "rows=int(input(\"Enter number of rows:\"))\n",
        "for i in range(rows,0,-1):\n",
        "  for j in range(i):\n",
        "    print(\"+\",end=\"\")\n",
        "  print(\"\\n\")"
      ],
      "metadata": {
        "colab": {
          "base_uri": "https://localhost:8080/"
        },
        "id": "67Lf6NzJdqwl",
        "outputId": "b13c5e39-b276-4cec-dc70-241b63b9699e"
      },
      "execution_count": 43,
      "outputs": [
        {
          "output_type": "stream",
          "name": "stdout",
          "text": [
            "Enter number of rows:5\n",
            "+++++\n",
            "\n",
            "++++\n",
            "\n",
            "+++\n",
            "\n",
            "++\n",
            "\n",
            "+\n",
            "\n"
          ]
        }
      ]
    },
    {
      "cell_type": "code",
      "source": [
        "#pattern 1, while loop\n",
        "rows=int(input(\"Enter number of rows:\"))\n",
        "i=rows\n",
        "while i>=1:\n",
        "  j=i\n",
        "  while j>0:\n",
        "    print(\"+\",end=\"\")\n",
        "    j-=1\n",
        "  print(\"\\n\")\n",
        "  i-=1"
      ],
      "metadata": {
        "colab": {
          "base_uri": "https://localhost:8080/"
        },
        "id": "Ojc6dB7Pn843",
        "outputId": "8373ae11-ceda-4993-bf95-07b73db56b4a"
      },
      "execution_count": 49,
      "outputs": [
        {
          "output_type": "stream",
          "name": "stdout",
          "text": [
            "Enter number of rows:5\n",
            "+++++\n",
            "\n",
            "++++\n",
            "\n",
            "+++\n",
            "\n",
            "++\n",
            "\n",
            "+\n",
            "\n"
          ]
        }
      ]
    },
    {
      "cell_type": "code",
      "source": [
        "#pattern 2, for loop\n",
        "rows=int(input(\"Enter number of rows:\"))\n",
        "for i in range(rows):\n",
        "  for j in range(i+1):\n",
        "    print(\"*\",end=\"\")\n",
        "  print(\"\\n\")"
      ],
      "metadata": {
        "colab": {
          "base_uri": "https://localhost:8080/"
        },
        "id": "CucVhW_PgwfN",
        "outputId": "b1e59d6f-f1a3-4c0e-f0d1-65d7bfd23dad"
      },
      "execution_count": 42,
      "outputs": [
        {
          "output_type": "stream",
          "name": "stdout",
          "text": [
            "Enter number of rows:5\n",
            "*\n",
            "\n",
            "**\n",
            "\n",
            "***\n",
            "\n",
            "****\n",
            "\n",
            "*****\n",
            "\n"
          ]
        }
      ]
    },
    {
      "cell_type": "code",
      "source": [
        "#Pattern 2\n",
        "#While Loop\n",
        "n=int(input(\"enter the value: \"))\n",
        "i=1\n",
        "while i<=n:\n",
        "  j=1\n",
        "  while j<=i:\n",
        "    print(\"*\",end=\"\")\n",
        "    j+=1\n",
        "  print(\"\\n\")\n",
        "  i+=1\n"
      ],
      "metadata": {
        "colab": {
          "base_uri": "https://localhost:8080/"
        },
        "id": "fwCUJJ1tnCx4",
        "outputId": "9a33843d-f8cf-4f9b-cc64-74966799f829"
      },
      "execution_count": 44,
      "outputs": [
        {
          "output_type": "stream",
          "name": "stdout",
          "text": [
            "enter the value: 5\n",
            "*\n",
            "\n",
            "**\n",
            "\n",
            "***\n",
            "\n",
            "****\n",
            "\n",
            "*****\n",
            "\n"
          ]
        }
      ]
    },
    {
      "cell_type": "code",
      "source": [
        "#Pattern 3\n",
        "#While Loop\n",
        "rows = int(input(\"Enter the value: \"))\n",
        "i = 1\n",
        "while i <= rows:\n",
        "    j = rows - i\n",
        "    while j > 0:\n",
        "        print(\" \", end=\"\")\n",
        "        j -= 1\n",
        "    k = i\n",
        "    while k > 0:\n",
        "        print(\"*\", end=\"\")\n",
        "        k -= 1\n",
        "    print()\n",
        "    i += 1"
      ],
      "metadata": {
        "colab": {
          "base_uri": "https://localhost:8080/"
        },
        "id": "UTc94CQCnLaG",
        "outputId": "b4745d25-fa06-49db-864c-415403fb7d85"
      },
      "execution_count": 45,
      "outputs": [
        {
          "output_type": "stream",
          "name": "stdout",
          "text": [
            "Enter the value: 5\n",
            "    *\n",
            "   **\n",
            "  ***\n",
            " ****\n",
            "*****\n"
          ]
        }
      ]
    },
    {
      "cell_type": "code",
      "source": [
        "#Pattern 3\n",
        "#For Loop\n",
        "rows = int(input(\"Enter the value: \"))\n",
        "for i in range(1, rows + 1):\n",
        "    for j in range(rows - i):\n",
        "        print(\" \", end=\"\")\n",
        "    for k in range(i):\n",
        "        print(\"*\", end=\"\")\n",
        "    print()"
      ],
      "metadata": {
        "colab": {
          "base_uri": "https://localhost:8080/"
        },
        "id": "zY5kJdjLnNv-",
        "outputId": "ac9caf69-a7e9-41e6-bfe4-5fa6738aedb8"
      },
      "execution_count": 46,
      "outputs": [
        {
          "output_type": "stream",
          "name": "stdout",
          "text": [
            "Enter the value: 5\n",
            "    *\n",
            "   **\n",
            "  ***\n",
            " ****\n",
            "*****\n"
          ]
        }
      ]
    },
    {
      "cell_type": "code",
      "source": [
        "#pattern 4\n",
        "#For Loop\n",
        "n = int(input(\"Enter the value: \"))\n",
        "for i in range(n):\n",
        "    for j in range(i):\n",
        "        print(\" \", end=\"\")\n",
        "    for k in range(n - i):\n",
        "        print(\"+\", end=\"\")\n",
        "    print()"
      ],
      "metadata": {
        "colab": {
          "base_uri": "https://localhost:8080/"
        },
        "id": "xNJr_m6pnXjO",
        "outputId": "6a055477-cfe1-4ecb-fd8e-3a672abae118"
      },
      "execution_count": 47,
      "outputs": [
        {
          "output_type": "stream",
          "name": "stdout",
          "text": [
            "Enter the value: 5\n",
            "+++++\n",
            " ++++\n",
            "  +++\n",
            "   ++\n",
            "    +\n"
          ]
        }
      ]
    },
    {
      "cell_type": "code",
      "source": [
        "#Pattern 4\n",
        "#While Loop\n",
        "n = int(input(\"Enter the value: \"))\n",
        "i = 0\n",
        "while i < n:\n",
        "    j = 0\n",
        "    while j < i:\n",
        "        print(\" \", end=\"\")\n",
        "        j += 1\n",
        "    k = 0\n",
        "    while k < (n - i):\n",
        "        print(\"+\", end=\"\")\n",
        "        k += 1\n",
        "    print()\n",
        "    i += 1"
      ],
      "metadata": {
        "colab": {
          "base_uri": "https://localhost:8080/"
        },
        "id": "KSuwixl0nePG",
        "outputId": "20eb01e8-019e-4fa2-fcdc-af984d362744"
      },
      "execution_count": 48,
      "outputs": [
        {
          "output_type": "stream",
          "name": "stdout",
          "text": [
            "Enter the value: 5\n",
            "+++++\n",
            " ++++\n",
            "  +++\n",
            "   ++\n",
            "    +\n"
          ]
        }
      ]
    }
  ]
}