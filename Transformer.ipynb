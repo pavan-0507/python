{
  "nbformat": 4,
  "nbformat_minor": 0,
  "metadata": {
    "colab": {
      "provenance": [],
      "authorship_tag": "ABX9TyMS6EfN3lHpP7dZ2jv9pPLT",
      "include_colab_link": true
    },
    "kernelspec": {
      "name": "python3",
      "display_name": "Python 3"
    },
    "language_info": {
      "name": "python"
    }
  },
  "cells": [
    {
      "cell_type": "markdown",
      "metadata": {
        "id": "view-in-github",
        "colab_type": "text"
      },
      "source": [
        "<a href=\"https://colab.research.google.com/github/pavan-0507/python/blob/main/Transformer.ipynb\" target=\"_parent\"><img src=\"https://colab.research.google.com/assets/colab-badge.svg\" alt=\"Open In Colab\"/></a>"
      ]
    },
    {
      "cell_type": "code",
      "execution_count": 1,
      "metadata": {
        "id": "m1gZ1mK-p8Kj"
      },
      "outputs": [],
      "source": [
        "def oc(vo,io,wo):\n",
        "  import math\n",
        "  npf = wo / (vo*io)\n",
        "  iw = io*npf\n",
        "  imv = io*math.sqrt(1-npf**2)\n",
        "  ro = vo/iw\n",
        "  xo = vo/imv\n",
        "  return ro,xo"
      ]
    },
    {
      "cell_type": "code",
      "source": [
        "def sc(vsc,isc,wsc):\n",
        "  import math\n",
        "  rsc = wsc/(isc**2)\n",
        "  zsc = vsc/isc\n",
        "  xsc = math.sqrt(zsc**2-rsc**2)\n",
        "  return rsc,xsc"
      ],
      "metadata": {
        "id": "_KGAmrgWqvlh"
      },
      "execution_count": 2,
      "outputs": []
    },
    {
      "cell_type": "code",
      "source": [
        "def eff(Rating,wo,wsc,x,pf):\n",
        "  efficiency = (x*Rating*pf*100)/(x*Rating*pf + wo + x*x*wsc)\n",
        "  copper = wsc*(x**2)\n",
        "  return efficiency,copper"
      ],
      "metadata": {
        "id": "WIxDpDuMq9bX"
      },
      "execution_count": 3,
      "outputs": []
    }
  ]
}