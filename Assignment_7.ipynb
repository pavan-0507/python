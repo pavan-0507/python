{
  "nbformat": 4,
  "nbformat_minor": 0,
  "metadata": {
    "colab": {
      "provenance": [],
      "authorship_tag": "ABX9TyMExcHht9JF9KmJ0JQ2Ozmn",
      "include_colab_link": true
    },
    "kernelspec": {
      "name": "python3",
      "display_name": "Python 3"
    },
    "language_info": {
      "name": "python"
    }
  },
  "cells": [
    {
      "cell_type": "markdown",
      "metadata": {
        "id": "view-in-github",
        "colab_type": "text"
      },
      "source": [
        "<a href=\"https://colab.research.google.com/github/pavan-0507/python/blob/main/Assignment_7.ipynb\" target=\"_parent\"><img src=\"https://colab.research.google.com/assets/colab-badge.svg\" alt=\"Open In Colab\"/></a>"
      ]
    },
    {
      "cell_type": "code",
      "execution_count": 1,
      "metadata": {
        "colab": {
          "base_uri": "https://localhost:8080/"
        },
        "id": "2su3KGX2T-FU",
        "outputId": "ede6c18c-85a9-4b67-ff0a-52c3e8072398"
      },
      "outputs": [
        {
          "output_type": "stream",
          "name": "stdout",
          "text": [
            "enter the receving end voltage:220000\n",
            "enter the length:40\n",
            "enter the resistance per phase:0.15\n",
            "enter the inductance per phase:0.0013262\n",
            "enter the apparent power:381000000\n",
            "enter the power factor:0.8\n",
            "0:lagging 1:leading0\n",
            "voltage_regulation= 11.908070744748008\n",
            "apparent power= (322795165.28925616+278557793.9791735j)\n",
            "sending end= 322795165.28925616\n",
            "efficiency= 94.42520606740479\n"
          ]
        }
      ],
      "source": [
        "import math\n",
        "Vr=float(input((\"enter the receving end voltage:\")))\n",
        "length=float(input(\"enter the length:\"))\n",
        "r=float(input(\"enter the resistance per phase:\"))\n",
        "l=float(input(\"enter the inductance per phase:\"))\n",
        "load=float(input(\"enter the apparent power:\"))\n",
        "pf=float(input(\"enter the power factor:\"))\n",
        "type_pf=int(input(\"0:lagging 1:leading\"))\n",
        "Vphase=Vr/math.sqrt(3)\n",
        "R=r*length\n",
        "L=l*length\n",
        "X=2*3.14*50*L\n",
        "Z=complex(R,X)\n",
        "p=load*pf\n",
        "Q=load*math.sqrt(1-pf**2)\n",
        "\n",
        "if(type_pf==0):\n",
        "  S=complex(p,Q)\n",
        "else:\n",
        "  S=complex(p,-Q)\n",
        "Ir=(S.conjugate())/(3*Vphase)\n",
        "Vs=Vphase+Z*Ir\n",
        "voltage_regulation=(abs(Vs)-Vphase)*100/Vphase\n",
        "print(\"voltage_regulation=\",voltage_regulation)\n",
        "Ssend=3*Vs*Ir.conjugate()\n",
        "print(\"apparent power=\",Ssend)\n",
        "psend=Ssend.real\n",
        "print(\"sending end=\",psend)\n",
        "eff=p*100/psend\n",
        "print(\"efficiency=\",eff)"
      ]
    }
  ]
}