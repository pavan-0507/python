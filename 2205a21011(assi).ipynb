{
  "nbformat": 4,
  "nbformat_minor": 0,
  "metadata": {
    "colab": {
      "provenance": [],
      "authorship_tag": "ABX9TyNxG+SNZKX5z3qBn9MYNXqc",
      "include_colab_link": true
    },
    "kernelspec": {
      "name": "python3",
      "display_name": "Python 3"
    },
    "language_info": {
      "name": "python"
    }
  },
  "cells": [
    {
      "cell_type": "markdown",
      "metadata": {
        "id": "view-in-github",
        "colab_type": "text"
      },
      "source": [
        "<a href=\"https://colab.research.google.com/github/pavan-0507/python/blob/main/2205a21011(assi).ipynb\" target=\"_parent\"><img src=\"https://colab.research.google.com/assets/colab-badge.svg\" alt=\"Open In Colab\"/></a>"
      ]
    },
    {
      "cell_type": "code",
      "source": [
        "\n",
        "rating=float(input(\"enter the rating of transformer in voltamphere =\"))\n",
        "pf =float(input(\"enter the power factor of transformer =\"))\n",
        "loading=float(input(\"enter the loading of transformer =\"))\n",
        "copper_losses=float(input(\"enter the full load copper losses of transformer in watts=\"))\n",
        "core_losses=float(input(\"enter the full load core losses of transformer in watts=\"))\n",
        "Cu_losses=(copper_losses*loading**2)\n",
        "print(\"copper losses of transformer aat loading =\",Cu_losses)\n",
        "efficiency=(((loading)*rating*pf)/((loading*rating*pf)+core_losses+Cu_losses))*100\n",
        "print(\"Efficiency of transformer =\",efficiency,\"%\")\n",
        "import math\n",
        "Max_efficiency=math.sqrt(core_losses/Cu_losses)\n",
        "print(\"load at where maximum efficency =\",Max_efficiency)\n",
        "\n"
      ],
      "metadata": {
        "colab": {
          "base_uri": "https://localhost:8080/"
        },
        "id": "mBLYpRqyKweN",
        "outputId": "e1683ea0-5dae-4697-c89f-0f41098ae082"
      },
      "execution_count": 17,
      "outputs": [
        {
          "output_type": "stream",
          "name": "stdout",
          "text": [
            "enter the rating of transformer in voltamphere =5000\n",
            "enter the power factor of transformer =1\n",
            "enter the loading of transformer =1\n",
            "enter the full load copper losses of transformer in watts=800\n",
            "enter the full load core losses of transformer in watts=100\n",
            "copper losses of transformer aat loading = 800.0\n",
            "Efficiency of transformer = 84.7457627118644 %\n",
            "load at where maximum efficency = 0.3535533905932738\n"
          ]
        }
      ]
    }
  ]
}