{
  "nbformat": 4,
  "nbformat_minor": 0,
  "metadata": {
    "colab": {
      "provenance": [],
      "authorship_tag": "ABX9TyOcIhltmJx6in+IkyOekvMo",
      "include_colab_link": true
    },
    "kernelspec": {
      "name": "python3",
      "display_name": "Python 3"
    },
    "language_info": {
      "name": "python"
    }
  },
  "cells": [
    {
      "cell_type": "markdown",
      "metadata": {
        "id": "view-in-github",
        "colab_type": "text"
      },
      "source": [
        "<a href=\"https://colab.research.google.com/github/pavan-0507/python/blob/main/ASSIGNMENT08.ipynb\" target=\"_parent\"><img src=\"https://colab.research.google.com/assets/colab-badge.svg\" alt=\"Open In Colab\"/></a>"
      ]
    },
    {
      "cell_type": "code",
      "execution_count": 3,
      "metadata": {
        "colab": {
          "base_uri": "https://localhost:8080/"
        },
        "id": "jQoYPLhZoLt4",
        "outputId": "4ccff876-3ef8-490c-b1d0-1c7ab6977bd5"
      },
      "outputs": [
        {
          "output_type": "stream",
          "name": "stdout",
          "text": [
            "{2000, 500, 'PAVAN', 1000, 'SAI PALLAVI', 'CHINTU', 'PALLU'}\n"
          ]
        }
      ],
      "source": [
        "Element={\"PAVAN\",\"SAI PALLAVI\",\"PALLU\",\"CHINTU\",500,1000,2000}\n",
        "print(Element)"
      ]
    },
    {
      "cell_type": "code",
      "source": [
        "\n",
        "Element={\"PAVAN\",\"SAI PALLAVI\",\"PALLU\",\"CHINTU\",500,1000,1000,500}\n",
        "print(Element)"
      ],
      "metadata": {
        "colab": {
          "base_uri": "https://localhost:8080/"
        },
        "id": "G5AP205ktu_5",
        "outputId": "918beb4f-e7c7-41d6-c1f6-11d7d1f208a8"
      },
      "execution_count": 5,
      "outputs": [
        {
          "output_type": "stream",
          "name": "stdout",
          "text": [
            "{500, 'PAVAN', 1000, 'SAI PALLAVI', 'CHINTU', 'PALLU'}\n"
          ]
        }
      ]
    },
    {
      "cell_type": "code",
      "source": [
        "bool_values={True,False,1,0}\n",
        "print(bool_values)\n",
        "print(len(bool_values))"
      ],
      "metadata": {
        "colab": {
          "base_uri": "https://localhost:8080/"
        },
        "id": "yeHONroSudQh",
        "outputId": "3630ed7b-4a19-442c-a98f-1298363c2e22"
      },
      "execution_count": 6,
      "outputs": [
        {
          "output_type": "stream",
          "name": "stdout",
          "text": [
            "{False, True}\n",
            "2\n"
          ]
        }
      ]
    },
    {
      "cell_type": "code",
      "source": [
        "\n",
        "a={\"PAVAN\",\"PALLU\"}\n",
        "b={1,2,3,4,5,}\n",
        "c={True,False}\n",
        "print(a)\n",
        "print(b)\n",
        "print(c)\n",
        "print(len(a))\n",
        "print(len(b))\n",
        "print(len(c))"
      ],
      "metadata": {
        "colab": {
          "base_uri": "https://localhost:8080/"
        },
        "id": "IT8CMh65ujwx",
        "outputId": "84bb2624-8bb9-4a45-8fbc-4f96b1fd5409"
      },
      "execution_count": 7,
      "outputs": [
        {
          "output_type": "stream",
          "name": "stdout",
          "text": [
            "{'PALLU', 'PAVAN'}\n",
            "{1, 2, 3, 4, 5}\n",
            "{False, True}\n",
            "2\n",
            "5\n",
            "2\n"
          ]
        }
      ]
    },
    {
      "cell_type": "code",
      "source": [
        "Element={\"PAVAN\",\"SAI PALLAVI\",\"PALLU\",\"CHINTU\",500,1000,1000,500}\n",
        "print(Element)\n",
        "print(type(Element))"
      ],
      "metadata": {
        "colab": {
          "base_uri": "https://localhost:8080/"
        },
        "id": "Evq9py-WurYh",
        "outputId": "6c33f275-36bd-4023-e4b4-aa319fe3e9db"
      },
      "execution_count": 8,
      "outputs": [
        {
          "output_type": "stream",
          "name": "stdout",
          "text": [
            "{500, 'PAVAN', 1000, 'SAI PALLAVI', 'CHINTU', 'PALLU'}\n",
            "<class 'set'>\n"
          ]
        }
      ]
    },
    {
      "cell_type": "code",
      "source": [
        "Element=set((\"PAVAN\",\"SAI PALLAVI\",\"PALLU\",\"CHINTU\",500,1000,1000,500))\n",
        "print(Element)\n",
        "print(type(Element))\n",
        ""
      ],
      "metadata": {
        "colab": {
          "base_uri": "https://localhost:8080/"
        },
        "id": "2pm-BJhFu05Q",
        "outputId": "5bfbe789-1887-4152-8a5c-e537a66f2638"
      },
      "execution_count": 9,
      "outputs": [
        {
          "output_type": "stream",
          "name": "stdout",
          "text": [
            "{'PAVAN', 1000, 500, 'PALLU', 'SAI PALLAVI', 'CHINTU'}\n",
            "<class 'set'>\n"
          ]
        }
      ]
    },
    {
      "cell_type": "code",
      "source": [
        "Element=set((\"PAVAN\",\"SAI PALLAVI\",\"PALLU\",\"CHINTU\",500,1000,1000,500))\n",
        "for value in Element:\n",
        "  print(value)"
      ],
      "metadata": {
        "colab": {
          "base_uri": "https://localhost:8080/"
        },
        "id": "ZSH_NvTBu9TA",
        "outputId": "f8540412-9360-4c58-fe91-b213e0cfddce"
      },
      "execution_count": 10,
      "outputs": [
        {
          "output_type": "stream",
          "name": "stdout",
          "text": [
            "PAVAN\n",
            "1000\n",
            "500\n",
            "PALLU\n",
            "SAI PALLAVI\n",
            "CHINTU\n"
          ]
        }
      ]
    },
    {
      "cell_type": "code",
      "source": [
        "Element=set((\"PAVAN\",\"SAI PALLAVI\",\"PALLU\",\"CHINTU\",500,1000,1000,500))\n",
        "print(\"Rakesh\" in Element)\n",
        "print(\"rajkumar\" not in Element)"
      ],
      "metadata": {
        "colab": {
          "base_uri": "https://localhost:8080/"
        },
        "id": "3QeCu5QkvEJJ",
        "outputId": "98342a99-2740-4549-a261-f5c4d7b59a03"
      },
      "execution_count": 11,
      "outputs": [
        {
          "output_type": "stream",
          "name": "stdout",
          "text": [
            "False\n",
            "True\n"
          ]
        }
      ]
    },
    {
      "cell_type": "code",
      "source": [
        "Element={\"PAVAN\",\"SAI PALLAVI\",\"PALLU\",\"CHINTU\"}\n",
        "print(Element)\n",
        "Element.add(\"das\")\n",
        "print(Element)"
      ],
      "metadata": {
        "colab": {
          "base_uri": "https://localhost:8080/"
        },
        "id": "9i9Z4-KfvLBQ",
        "outputId": "e2a29803-9388-4f9e-a3d6-1602550e0dcd"
      },
      "execution_count": 12,
      "outputs": [
        {
          "output_type": "stream",
          "name": "stdout",
          "text": [
            "{'PALLU', 'SAI PALLAVI', 'CHINTU', 'PAVAN'}\n",
            "{'das', 'PAVAN', 'PALLU', 'SAI PALLAVI', 'CHINTU'}\n"
          ]
        }
      ]
    },
    {
      "cell_type": "code",
      "source": [
        "Element={\"PAVAN\",\"SAI PALLAVI\",\"PALLU\",\"CHINTU\" }\n",
        "point={\"mango\",\"apple\",\"banana\"}\n",
        "Element.update(point)\n",
        "print(Element)"
      ],
      "metadata": {
        "colab": {
          "base_uri": "https://localhost:8080/"
        },
        "id": "BGp1vH0WveHh",
        "outputId": "f20c6b17-ec9a-4cef-c728-5eb068f040d0"
      },
      "execution_count": 14,
      "outputs": [
        {
          "output_type": "stream",
          "name": "stdout",
          "text": [
            "{'mango', 'apple', 'PAVAN', 'PALLU', 'SAI PALLAVI', 'CHINTU', 'banana'}\n"
          ]
        }
      ]
    },
    {
      "cell_type": "code",
      "source": [
        "Element={ \"PAVAN\",\"SAI PALLAVI\",\"PALLU\",\"CHINTU\"}\n",
        "Element.remove(\"SAI PALLAVI\")\n",
        "print(Element)"
      ],
      "metadata": {
        "colab": {
          "base_uri": "https://localhost:8080/"
        },
        "id": "GP_GKAHuvpmB",
        "outputId": "38707556-b795-49e2-ed1c-59cc66e7c7c4"
      },
      "execution_count": 16,
      "outputs": [
        {
          "output_type": "stream",
          "name": "stdout",
          "text": [
            "{'PALLU', 'CHINTU', 'PAVAN'}\n"
          ]
        }
      ]
    },
    {
      "cell_type": "code",
      "source": [
        "\n",
        "Element={\"PAVAN\",\"SAI PALLAVI\",\"PALLU\",\"CHINTU\"}\n",
        "Element.discard(\"SAI PALLAVI\")\n",
        "print(Element)"
      ],
      "metadata": {
        "colab": {
          "base_uri": "https://localhost:8080/"
        },
        "id": "PhCTf2Vlv7Yw",
        "outputId": "c83ff42a-6e52-489d-ef45-3ee5c92c81fa"
      },
      "execution_count": 18,
      "outputs": [
        {
          "output_type": "stream",
          "name": "stdout",
          "text": [
            "{'PALLU', 'CHINTU', 'PAVAN'}\n"
          ]
        }
      ]
    },
    {
      "cell_type": "code",
      "source": [
        "Element={\"PAVAN\",\"SAI PALLAVI\",\"PALLU\",\"CHINTU\"}\n",
        "a=Element.pop()\n",
        "print(a)\n",
        "print(Element)"
      ],
      "metadata": {
        "colab": {
          "base_uri": "https://localhost:8080/"
        },
        "id": "sUz4GewCwOug",
        "outputId": "ed2a13d6-b7b8-4907-a4bc-e71fd85f0183"
      },
      "execution_count": 20,
      "outputs": [
        {
          "output_type": "stream",
          "name": "stdout",
          "text": [
            "PALLU\n",
            "{'SAI PALLAVI', 'CHINTU', 'PAVAN'}\n"
          ]
        }
      ]
    },
    {
      "cell_type": "code",
      "source": [
        "Element={\"PAVAN\",\"SAI PALLAVI\",\"PALLU\",\"CHINTU\"}\n",
        "Element.clear()\n",
        "print(Element)"
      ],
      "metadata": {
        "colab": {
          "base_uri": "https://localhost:8080/"
        },
        "id": "a-f9-6h_xG8o",
        "outputId": "f4df584f-51af-464b-d6bd-8c412396e4b0"
      },
      "execution_count": 21,
      "outputs": [
        {
          "output_type": "stream",
          "name": "stdout",
          "text": [
            "set()\n"
          ]
        }
      ]
    },
    {
      "cell_type": "code",
      "source": [
        "Element={\"PAVAN\",\"SAI PALLAVI\",\"PALLU\",\"CHINTU\"}\n",
        "for value in Element:\n",
        "  print(value)"
      ],
      "metadata": {
        "colab": {
          "base_uri": "https://localhost:8080/"
        },
        "id": "6-eNeBfyxQw4",
        "outputId": "84e24b82-1a1a-4d0f-baa8-0275eaed4865"
      },
      "execution_count": 22,
      "outputs": [
        {
          "output_type": "stream",
          "name": "stdout",
          "text": [
            "PALLU\n",
            "SAI PALLAVI\n",
            "CHINTU\n",
            "PAVAN\n"
          ]
        }
      ]
    },
    {
      "cell_type": "markdown",
      "source": [
        "# ***LIST***"
      ],
      "metadata": {
        "id": "dJ8tQBvOxaH4"
      }
    },
    {
      "cell_type": "code",
      "source": [
        "list=['PAVAN','2004']\n",
        "print(list)\n",
        "del list[1]\n",
        "print(list)"
      ],
      "metadata": {
        "colab": {
          "base_uri": "https://localhost:8080/"
        },
        "id": "518MlUNLxdGg",
        "outputId": "6cae1c24-9833-4a87-b6e1-a75e0c4f0c94"
      },
      "execution_count": 23,
      "outputs": [
        {
          "output_type": "stream",
          "name": "stdout",
          "text": [
            "['PAVAN', '2004']\n",
            "['PAVAN']\n"
          ]
        }
      ]
    },
    {
      "cell_type": "code",
      "source": [
        "name=[\"PAVAN\",'SAI PALLAVI','MANJU']\n",
        "DOB=[2003,2004,2005]\n",
        "print(\"name with maximum character\",max(name))\n",
        "print(\"name with minimum character\",min(name))\n",
        "print(\"DOB with maximum character\",max(DOB))\n",
        "print(\"DOB with minimum character\",min(DOB))"
      ],
      "metadata": {
        "colab": {
          "base_uri": "https://localhost:8080/"
        },
        "id": "piT-j3ZcxnnQ",
        "outputId": "87fafc45-73d6-49ef-95a6-258dc71159bf"
      },
      "execution_count": 24,
      "outputs": [
        {
          "output_type": "stream",
          "name": "stdout",
          "text": [
            "name with maximum character SAI PALLAVI\n",
            "name with minimum character MANJU\n",
            "DOB with maximum character 2005\n",
            "DOB with minimum character 2003\n"
          ]
        }
      ]
    },
    {
      "cell_type": "code",
      "source": [
        "name=['PAVAN','MANJU']\n",
        "print(\"member: \",name)\n",
        "name.insert(1,\"SAI PALLAVI\")\n",
        "print(\"member: \",name)"
      ],
      "metadata": {
        "colab": {
          "base_uri": "https://localhost:8080/"
        },
        "id": "6alrTYr7yUSg",
        "outputId": "493be07d-12a3-4f53-930d-e326aae98f25"
      },
      "execution_count": 25,
      "outputs": [
        {
          "output_type": "stream",
          "name": "stdout",
          "text": [
            "member:  ['PAVAN', 'MANJU']\n",
            "member:  ['PAVAN', 'SAI PALLAVI', 'MANJU']\n"
          ]
        }
      ]
    },
    {
      "cell_type": "code",
      "source": [
        "\n",
        "\n",
        "name=['PAVAN','MANJU',\"SAI PALLAVI\"]\n",
        "print(\"member: \",name)\n",
        "name.pop()\n",
        "print(\"member: \",name)\n",
        "name.pop(1)\n",
        "print(\"member: \",name)"
      ],
      "metadata": {
        "colab": {
          "base_uri": "https://localhost:8080/"
        },
        "id": "-62XRcjKyjp5",
        "outputId": "ccddf17b-d8dc-4977-da7d-314095c2613f"
      },
      "execution_count": 26,
      "outputs": [
        {
          "output_type": "stream",
          "name": "stdout",
          "text": [
            "member:  ['PAVAN', 'MANJU', 'SAI PALLAVI']\n",
            "member:  ['PAVAN', 'MANJU']\n",
            "member:  ['PAVAN']\n"
          ]
        }
      ]
    },
    {
      "cell_type": "code",
      "source": [
        "name=['PAVAN','MANJU',\"SAI PALLAVI\"]\n",
        "print(\"member: \",name)\n",
        "name.remove(\"SAI PALLAVI\")\n",
        "print(\"member: \",name)"
      ],
      "metadata": {
        "colab": {
          "base_uri": "https://localhost:8080/"
        },
        "id": "_8N0caAFyzXg",
        "outputId": "3c0f9b22-3056-4cf6-acf0-1d558e9e3145"
      },
      "execution_count": 28,
      "outputs": [
        {
          "output_type": "stream",
          "name": "stdout",
          "text": [
            "member:  ['PAVAN', 'MANJU', 'SAI PALLAVI']\n",
            "member:  ['PAVAN', 'MANJU']\n"
          ]
        }
      ]
    },
    {
      "cell_type": "code",
      "source": [
        "name=['PAVAN','MANJU',\"SAI  PALLAVI\"]\n",
        "print(\"member: \",name)\n",
        "name.reverse()\n",
        "print(\"member: \",name)"
      ],
      "metadata": {
        "colab": {
          "base_uri": "https://localhost:8080/"
        },
        "id": "YDdXTz5SzFvA",
        "outputId": "83ba80e5-8073-41d0-9d21-3eef23cc093c"
      },
      "execution_count": 29,
      "outputs": [
        {
          "output_type": "stream",
          "name": "stdout",
          "text": [
            "member:  ['PAVAN', 'MANJU', 'SAI  PALLAVI']\n",
            "member:  ['SAI  PALLAVI', 'MANJU', 'PAVAN']\n"
          ]
        }
      ]
    },
    {
      "cell_type": "code",
      "source": [
        "name=['PAVAN','MANJU',\"SAI PALLAVI\"]\n",
        "print(\"member: \",name)\n",
        "name.sort()\n",
        "print(\"member: \",name)"
      ],
      "metadata": {
        "colab": {
          "base_uri": "https://localhost:8080/"
        },
        "id": "fLKXFSdAzOUJ",
        "outputId": "a2783e19-44f2-4d69-8745-31e8cb18db87"
      },
      "execution_count": 30,
      "outputs": [
        {
          "output_type": "stream",
          "name": "stdout",
          "text": [
            "member:  ['PAVAN', 'MANJU', 'SAI PALLAVI']\n",
            "member:  ['MANJU', 'PAVAN', 'SAI PALLAVI']\n"
          ]
        }
      ]
    },
    {
      "cell_type": "markdown",
      "source": [
        "# ***Tuples***"
      ],
      "metadata": {
        "id": "QBldzIv7zWwx"
      }
    },
    {
      "cell_type": "code",
      "source": [
        "tuple=(\"PAVAN\",\"SAI\",\"PALLAVI\",\"PALLU\")\n",
        "print(tuple)\n",
        "print(tuple[0])\n",
        "print(tuple[0:2])\n",
        "print(tuple[0:])\n",
        "print(tuple[::-1])\n",
        "print(tuple[2:0:-1])\n",
        ""
      ],
      "metadata": {
        "colab": {
          "base_uri": "https://localhost:8080/"
        },
        "id": "v2WvPy0BzYcA",
        "outputId": "27bbe986-4327-4c17-fa8b-5886558c9b11"
      },
      "execution_count": 31,
      "outputs": [
        {
          "output_type": "stream",
          "name": "stdout",
          "text": [
            "('PAVAN', 'SAI', 'PALLAVI', 'PALLU')\n",
            "PAVAN\n",
            "('PAVAN', 'SAI')\n",
            "('PAVAN', 'SAI', 'PALLAVI', 'PALLU')\n",
            "('PALLU', 'PALLAVI', 'SAI', 'PAVAN')\n",
            "('PALLAVI', 'SAI')\n"
          ]
        }
      ]
    },
    {
      "cell_type": "code",
      "source": [
        "tuple=(\"PAVAN\",\"SAI\",\"PALLAVI\",\"PALLU\")\n",
        "tg=(200,2004,2002)\n",
        "print(tuple*2)\n",
        "print(tuple+tg)\n",
        "list=[\"pavan\",\"phanindra\",\"rahul\"]\n",
        "print(list)\n",
        "list[0]=\"rajkumar\"\n",
        "print(list)\n",
        ""
      ],
      "metadata": {
        "colab": {
          "base_uri": "https://localhost:8080/"
        },
        "id": "b7OgYlLuznRY",
        "outputId": "dc5be2dd-4517-47f7-9264-bd50f98f3118"
      },
      "execution_count": 32,
      "outputs": [
        {
          "output_type": "stream",
          "name": "stdout",
          "text": [
            "('PAVAN', 'SAI', 'PALLAVI', 'PALLU', 'PAVAN', 'SAI', 'PALLAVI', 'PALLU')\n",
            "('PAVAN', 'SAI', 'PALLAVI', 'PALLU', 200, 2004, 2002)\n",
            "['pavan', 'phanindra', 'rahul']\n",
            "['rajkumar', 'phanindra', 'rahul']\n"
          ]
        }
      ]
    },
    {
      "cell_type": "markdown",
      "source": [
        "# ***Dictionary***"
      ],
      "metadata": {
        "id": "fA-0fGZoztt4"
      }
    },
    {
      "cell_type": "code",
      "source": [
        "dict={}\n",
        "print(dict)\n",
        "dict[\"one\"]=\"my opinon is my own\"\n",
        "print(dict)\n",
        "dict[\"2\"]=\"my self\"\n",
        "print(dict)\n",
        "print(dict.keys())\n",
        "print(dict.values())"
      ],
      "metadata": {
        "colab": {
          "base_uri": "https://localhost:8080/"
        },
        "id": "B8uxqkEGzw7H",
        "outputId": "8e637677-150b-42e7-f0f1-8e9c0f81837c"
      },
      "execution_count": 33,
      "outputs": [
        {
          "output_type": "stream",
          "name": "stdout",
          "text": [
            "{}\n",
            "{'one': 'my opinon is my own'}\n",
            "{'one': 'my opinon is my own', '2': 'my self'}\n",
            "dict_keys(['one', '2'])\n",
            "dict_values(['my opinon is my own', 'my self'])\n"
          ]
        }
      ]
    },
    {
      "cell_type": "code",
      "source": [
        "base={\"name\":\"PAVAN\",\"marks\":848}\n",
        "print(base)\n",
        "print(base[\"name\"])\n",
        "print(base[\"marks\"])\n",
        "base[\"marks\"]=900\n",
        "print(base)\n",
        "base[\"name\"]=\"SAI PALLAVI\"\n",
        "print(base)\n",
        "print(base.keys())\n",
        "print(base.values())"
      ],
      "metadata": {
        "colab": {
          "base_uri": "https://localhost:8080/"
        },
        "id": "plE61pb3z1qw",
        "outputId": "001d8964-a0be-4d04-942e-7ea1b6117c57"
      },
      "execution_count": 34,
      "outputs": [
        {
          "output_type": "stream",
          "name": "stdout",
          "text": [
            "{'name': 'PAVAN', 'marks': 848}\n",
            "PAVAN\n",
            "848\n",
            "{'name': 'PAVAN', 'marks': 900}\n",
            "{'name': 'SAI PALLAVI', 'marks': 900}\n",
            "dict_keys(['name', 'marks'])\n",
            "dict_values(['SAI PALLAVI', 900])\n"
          ]
        }
      ]
    }
  ]
}