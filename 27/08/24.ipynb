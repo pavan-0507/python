{
  "nbformat": 4,
  "nbformat_minor": 0,
  "metadata": {
    "colab": {
      "provenance": [],
      "authorship_tag": "ABX9TyN0xLgdcisRUNMtVXUxqiV+",
      "include_colab_link": true
    },
    "kernelspec": {
      "name": "python3",
      "display_name": "Python 3"
    },
    "language_info": {
      "name": "python"
    }
  },
  "cells": [
    {
      "cell_type": "markdown",
      "metadata": {
        "id": "view-in-github",
        "colab_type": "text"
      },
      "source": [
        "<a href=\"https://colab.research.google.com/github/pavan-0507/python/blob/main/27/08/24.ipynb\" target=\"_parent\"><img src=\"https://colab.research.google.com/assets/colab-badge.svg\" alt=\"Open In Colab\"/></a>"
      ]
    },
    {
      "cell_type": "code",
      "execution_count": 2,
      "metadata": {
        "colab": {
          "base_uri": "https://localhost:8080/"
        },
        "id": "7tnoUWmxro2A",
        "outputId": "f739da66-7b7a-4cdc-9376-787ebc599b73"
      },
      "outputs": [
        {
          "output_type": "stream",
          "name": "stdout",
          "text": [
            "Enter the rating of the transformer:5000\n",
            "Enter the Primary Voltage of the transformer:220\n",
            "Enter the Secondary Voltage of the transformer:440\n",
            "Enter the OC test voltage in volts:220\n",
            "Enter the OC test current in amps:2\n",
            "Enter the OC test power in watts:250\n",
            "Enter the SC test voltage in volts:75\n",
            "Enter the SC test current in amps:10\n",
            "Enter the SC test power in watts:500\n",
            "Enter the powerfactor of the transformer:1\n",
            "Enter the loading of the transformer in watts:1\n",
            "efficiency= 86.95652173913044\n",
            "RO= 193.6\n",
            "XO= 133.67309875319802\n",
            "RO1= 5.0\n",
            "XO1= 5.5901699437494745\n",
            "copper losses of transformer= 500.0\n"
          ]
        }
      ],
      "source": [
        "import transformer\n",
        "\n",
        "Rating  = float(input(\"Enter the rating of the transformer:\"))\n",
        "Primary_voltage = float(input(\"Enter the Primary Voltage of the transformer:\"))\n",
        "Secondary_voltage = float(input(\"Enter the Secondary Voltage of the transformer:\"))\n",
        "vo = float(input(\"Enter the OC test voltage in volts:\"))\n",
        "io = float(input(\"Enter the OC test current in amps:\"))\n",
        "wo= float(input(\"Enter the OC test power in watts:\"))\n",
        "vsc = float(input(\"Enter the SC test voltage in volts:\"))\n",
        "isc = float(input(\"Enter the SC test current in amps:\"))\n",
        "wsc = float(input(\"Enter the SC test power in watts:\"))\n",
        "Pf = float(input(\"Enter the powerfactor of the transformer:\"))\n",
        "x = float(input(\"Enter the loading of the transformer in watts:\"))\n",
        "[ro,xo]=transformer.oc(vo,io,wo)\n",
        "[rsc,xsc]=transformer.sc(vsc,isc,wsc)\n",
        "[efficiency,copper]=transformer.eff(Rating,wo,wsc,Pf,x)\n",
        "print(\"efficiency=\",efficiency)\n",
        "print(\"RO=\",ro)\n",
        "print(\"XO=\",xo)\n",
        "print(\"RO1=\",rsc)\n",
        "print(\"XO1=\",xsc)\n",
        "print(\"copper losses of transformer=\",copper)\n"
      ]
    }
  ]
}