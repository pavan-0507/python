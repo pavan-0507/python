{
  "nbformat": 4,
  "nbformat_minor": 0,
  "metadata": {
    "colab": {
      "provenance": [],
      "authorship_tag": "ABX9TyMbG5wuZ/1cw/hZPcltnc9i",
      "include_colab_link": true
    },
    "kernelspec": {
      "name": "python3",
      "display_name": "Python 3"
    },
    "language_info": {
      "name": "python"
    }
  },
  "cells": [
    {
      "cell_type": "markdown",
      "metadata": {
        "id": "view-in-github",
        "colab_type": "text"
      },
      "source": [
        "<a href=\"https://colab.research.google.com/github/pavan-0507/python/blob/main/Untitled4.ipynb\" target=\"_parent\"><img src=\"https://colab.research.google.com/assets/colab-badge.svg\" alt=\"Open In Colab\"/></a>"
      ]
    },
    {
      "cell_type": "code",
      "execution_count": null,
      "metadata": {
        "id": "guQpvzk4kFsS"
      },
      "outputs": [],
      "source": [
        "import transformer\n",
        "v0=int(input(\"enter v0 =\"))\n",
        "i0=int(input(\"enter i0 =\"))\n",
        "w0=int(input(\"enter w0 =\"))\n",
        "vsc=int(input(\"enter vscc =\"))\n",
        "isc=int(input(\"enter isc =\"))\n",
        "wsc=int(input(\"enter wsc =\"))\n",
        "rating=int(input(\"enter rating =\"))\n",
        "pf=float(input(\"enter pf =\"))\n",
        "x=float(input(\"enter x =\"))\n",
        "\n",
        "[r0,x0]=transformer.oc(v0,i0,w0)\n",
        "[rsc,xsc]=transformer.sc(vsc,isc,wsc)\n",
        "[eff,xcu]=transformer.eff(rating,pf,x,w0,wsc)\n",
        "print(\"efficiencuy= \",eff)\n",
        "print(\"r0\",r0)\n",
        "print(\"xo\",xo)\n",
        "print(\"rsc\",rsc)\n",
        "print(\"xsc\",xsc)"
      ]
    }
  ]
}