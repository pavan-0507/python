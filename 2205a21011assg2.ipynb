{
  "nbformat": 4,
  "nbformat_minor": 0,
  "metadata": {
    "colab": {
      "provenance": [],
      "authorship_tag": "ABX9TyOHHste/qC948TQmjNWvq5s",
      "include_colab_link": true
    },
    "kernelspec": {
      "name": "python3",
      "display_name": "Python 3"
    },
    "language_info": {
      "name": "python"
    }
  },
  "cells": [
    {
      "cell_type": "markdown",
      "metadata": {
        "id": "view-in-github",
        "colab_type": "text"
      },
      "source": [
        "<a href=\"https://colab.research.google.com/github/pavan-0507/python/blob/main/2205a21011assg2.ipynb\" target=\"_parent\"><img src=\"https://colab.research.google.com/assets/colab-badge.svg\" alt=\"Open In Colab\"/></a>"
      ]
    },
    {
      "cell_type": "code",
      "execution_count": 1,
      "metadata": {
        "colab": {
          "base_uri": "https://localhost:8080/"
        },
        "id": "Kagdepe4gvVi",
        "outputId": "1815b1ba-b5c1-4889-e550-16939b86d052"
      },
      "outputs": [
        {
          "output_type": "stream",
          "name": "stdout",
          "text": [
            "enter the transformer rating in voltampere=5000\n",
            "enter the primary voltage in volts=220\n",
            "enter the secondary voltage in volts=440\n",
            "enter the open ckt test voltage in volts=220\n",
            "enter the open ckt test current in amps=2\n",
            "enter the open ckt test power in watts=250\n",
            "enter the short ckt test voltage in volts=75\n",
            "enter the short ckt test current in amps=10\n",
            "enter the short ckt test power in watts=500\n",
            "enter the power factor of the transformer=1\n",
            "enter the loading of the transformer=1\n",
            "efficiency= 86.95652173913044\n",
            "ro= 193.6\n",
            "xo= 133.67309875319802\n",
            "rlv= 1.25\n",
            "xlv= 1.3975424859373686\n",
            "xcu= 500.0\n",
            "NPA= 0.9665016340022088\n"
          ]
        }
      ],
      "source": [
        "import math\n",
        "r=float(input(\"enter the transformer rating in voltampere=\"))\n",
        "pv=float(input(\"enter the primary voltage in volts=\"))\n",
        "sv=float(input(\"enter the secondary voltage in volts=\"))\n",
        "vo=float(input(\"enter the open ckt test voltage in volts=\"))\n",
        "io=float(input(\"enter the open ckt test current in amps=\"))\n",
        "wo=float(input(\"enter the open ckt test power in watts=\"))\n",
        "vsc=float(input(\"enter the short ckt test voltage in volts=\"))\n",
        "isc=float(input(\"enter the short ckt test current in amps=\"))\n",
        "wsc=float(input(\"enter the short ckt test power in watts=\"))\n",
        "pf=float(input(\"enter the power factor of the transformer=\"))\n",
        "x=float(input(\"enter the loading of the transformer=\"))\n",
        "eff=(x*r*100)/(x*r+wo+x*x*wsc)\n",
        "npf=wo/(vo*io)\n",
        "iw=io*npf\n",
        "imv=io*math.sqrt(1-npf**2)\n",
        "ro=vo/iw\n",
        "xo=vo/imv\n",
        "k=sv/pv\n",
        "rsc=wsc/(isc**2)\n",
        "zsc=vsc/isc\n",
        "\n",
        "xsc=math.sqrt(zsc**2-rsc**2)\n",
        "rlv=rsc/(k**2)\n",
        "xlv=xsc/(k**2)\n",
        "xcu=wsc*(x**2)\n",
        "npa=math.acos(wo/(vo*io))\n",
        "print(\"efficiency=\",eff)\n",
        "print(\"ro=\",ro)\n",
        "print(\"xo=\",xo)\n",
        "print(\"rlv=\",rlv)\n",
        "print(\"xlv=\",xlv)\n",
        "print(\"xcu=\",xcu)\n",
        "print(\"NPA=\",npa)"
      ]
    }
  ]
}