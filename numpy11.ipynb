{
  "nbformat": 4,
  "nbformat_minor": 0,
  "metadata": {
    "colab": {
      "provenance": [],
      "authorship_tag": "ABX9TyMQDCHQQ3dipiJ3rMC1due8",
      "include_colab_link": true
    },
    "kernelspec": {
      "name": "python3",
      "display_name": "Python 3"
    },
    "language_info": {
      "name": "python"
    }
  },
  "cells": [
    {
      "cell_type": "markdown",
      "metadata": {
        "id": "view-in-github",
        "colab_type": "text"
      },
      "source": [
        "<a href=\"https://colab.research.google.com/github/pavan-0507/python/blob/main/numpy11.ipynb\" target=\"_parent\"><img src=\"https://colab.research.google.com/assets/colab-badge.svg\" alt=\"Open In Colab\"/></a>"
      ]
    },
    {
      "cell_type": "code",
      "source": [
        "\n",
        "\n",
        "import numpy as np\n",
        "\n",
        "# Define the marks data as a NumPy array\n",
        "marks = np.array([[101, 35, 98, 43, 65, 78, 96],\n",
        "                 [102, 87, 45, 98, 65, 34, 78],\n",
        "                 [103, 45, 26, 78, 45, 67, 34],\n",
        "                 [104, 45, 56, 67, 78, 89, 90],\n",
        "                 [105, 23, 34, 45, 56, 76, 87]])\n",
        "students = marks.shape[0]\n",
        "\n",
        "Hall_Ticket_No = int(input(\"enter hall ticket number\"))\n",
        "for i in range(students):\n",
        "  if (Hall_Ticket_No == marks[i,0]):\n",
        "    break\n",
        "index = 1\n",
        "\n",
        "marks_percentage = np.sum(marks[index,1:marks.shape[1]])*100/600\n",
        "\n",
        "count = 0\n",
        "failed_sub = []\n",
        "\n",
        "for i in range(1,marks.shape[1]):\n",
        "  if (marks[index,i]<35):\n",
        "    count+=1\n",
        "    failed_sub.append(i)\n",
        "    print(\"*\"*10)\n",
        "    print(\"KINDERLAND SCHOOL\")\n",
        "    print(\"SCORE CARD\")\n",
        "    print(\"*\"*10)\n",
        "    print(\"Roll No:\", Hall_Ticket_No)\n",
        "    print(\"Telugu:\", marks [index, 1])\n",
        "    print(\"English:\", marks [index,2])\n",
        "    print(\"Hindi:\", marks [index, 3])\n",
        "    print(\"Maths:\", marks [index, 4])\n",
        "    print(\"Science:\", marks [index, 5])\n",
        "    print(\"social:\", marks [index, 6])\n",
        "    print(\"*\"*10)\n",
        "    print(\"Result status\")\n",
        "    print(\"*\"*10)\n",
        "    if(count>0):\n",
        "      print(\"Fail\")\n",
        "      for i in range(len (failed_sub)):\n",
        "        if(failed_sub[i]==1):\n",
        "          print(\"Telugu\")\n",
        "        if(failed_sub[i]==2):\n",
        "          print(\"English\")\n",
        "        if(failed_sub[i]==3):\n",
        "          print(\"Hindi\")\n",
        "        if(failed_sub[i]==4):\n",
        "          print(\"Maths\")\n",
        "        if(failed_sub[i]==5):\n",
        "          print(\"Science\")\n",
        "        if(failed_sub[i]==6):\n",
        "          print(\"Social\")\n",
        "    else:\n",
        "      print(\"Pass\")\n",
        "      print(\"Percentage of marks:\", marks_percentage)\n",
        "    break\n"
      ],
      "metadata": {
        "colab": {
          "base_uri": "https://localhost:8080/"
        },
        "id": "ohcR4Tu3-oKh",
        "outputId": "3e4fb351-1abf-4904-e23c-364eeb55296a"
      },
      "execution_count": 21,
      "outputs": [
        {
          "output_type": "stream",
          "name": "stdout",
          "text": [
            "enter hall ticket number101\n",
            "**********\n",
            "KINDERLAND SCHOOL\n",
            "SCORE CARD\n",
            "**********\n",
            "Roll No: 101\n",
            "Telugu: 87\n",
            "English: 45\n",
            "Hindi: 98\n",
            "Maths: 65\n",
            "Science: 34\n",
            "social: 78\n",
            "**********\n",
            "Result status\n",
            "**********\n",
            "Fail\n",
            "Science\n"
          ]
        }
      ]
    }
  ]
}